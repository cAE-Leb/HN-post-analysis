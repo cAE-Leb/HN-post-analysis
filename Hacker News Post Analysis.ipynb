{
 "cells": [
  {
   "cell_type": "markdown",
   "metadata": {
    "collapsed": true
   },
   "source": [
    "# Hacker News posts\n",
    "\n",
    "In this project we will sort through posts from HN and pull info from any line containing `Ask HN:` or `Show HN:`. With this info we will look into specific times that posts receive \"Upvotes\", determining which category and what time a user is most likely to have a highly viewed post. This project is to show my ability to parse data and used dates and times in python."
   ]
  },
  {
   "cell_type": "code",
   "execution_count": 6,
   "metadata": {},
   "outputs": [],
   "source": [
    "from csv import reader\n",
    "opened_file = open('hacker_news.csv')\n",
    "read_file = reader(opened_file)\n",
    "hn = list(read_file)\n",
    "\n",
    "headers = hn[0]\n",
    "hn = hn[1:]"
   ]
  },
  {
   "cell_type": "markdown",
   "metadata": {},
   "source": [
    "In the code above we opened and read the csv file, coverted it into a list, and assigned the header and body appropriately"
   ]
  },
  {
   "cell_type": "code",
   "execution_count": 7,
   "metadata": {},
   "outputs": [
    {
     "name": "stdout",
     "output_type": "stream",
     "text": [
      "['id', 'title', 'url', 'num_points', 'num_comments', 'author', 'created_at'] \n",
      " [['12224879', 'Interactive Dynamic Video', 'http://www.interactivedynamicvideo.com/', '386', '52', 'ne0phyte', '8/4/2016 11:52'], ['10975351', 'How to Use Open Source and Shut the Fuck Up at the Same Time', 'http://hueniverse.com/2016/01/26/how-to-use-open-source-and-shut-the-fuck-up-at-the-same-time/', '39', '10', 'josep2', '1/26/2016 19:30'], ['11964716', \"Florida DJs May Face Felony for April Fools' Water Joke\", 'http://www.thewire.com/entertainment/2013/04/florida-djs-april-fools-water-joke/63798/', '2', '1', 'vezycash', '6/23/2016 22:20'], ['11919867', 'Technology ventures: From Idea to Enterprise', 'https://www.amazon.com/Technology-Ventures-Enterprise-Thomas-Byers/dp/0073523429', '3', '1', 'hswarna', '6/17/2016 0:01'], ['10301696', 'Note by Note: The Making of Steinway L1037 (2007)', 'http://www.nytimes.com/2007/11/07/movies/07stein.html?_r=0', '8', '2', 'walterbell', '9/30/2015 4:12']]\n"
     ]
    }
   ],
   "source": [
    "print(headers, \"\\n\", hn[0:5])"
   ]
  },
  {
   "cell_type": "code",
   "execution_count": 8,
   "metadata": {},
   "outputs": [],
   "source": [
    "ask_posts = []\n",
    "show_posts = []\n",
    "other_posts = []\n",
    "\n",
    "for row in hn:\n",
    "    title = row[1]\n",
    "    if (title.lower()).startswith('ask hn'):\n",
    "        ask_posts.append(row)\n",
    "    elif (title.lower()).startswith('show hn'):\n",
    "        show_posts.append(row)\n",
    "    else:\n",
    "        other_posts.append(row)"
   ]
  },
  {
   "cell_type": "code",
   "execution_count": 10,
   "metadata": {},
   "outputs": [
    {
     "name": "stdout",
     "output_type": "stream",
     "text": [
      "No. of Ask HN posts:  1744\n",
      "No. of Show HN posts:  1162\n",
      "No. of Other HN posts:  17194\n"
     ]
    }
   ],
   "source": [
    "print(\"No. of Ask HN posts: \", len(ask_posts))\n",
    "print(\"No. of Show HN posts: \", len(show_posts))\n",
    "print(\"No. of Other HN posts: \", len(other_posts))\n"
   ]
  },
  {
   "cell_type": "markdown",
   "metadata": {},
   "source": [
    "In the segment above, we created 3 empty sets and looped through each row, verifying what the post started with, and `.appending` the list an needed. As we can see, there are more posts \"Asking\" HN questions, than \"Showing\" HN."
   ]
  },
  {
   "cell_type": "markdown",
   "metadata": {},
   "source": [
    "## Finding the total number of comments"
   ]
  },
  {
   "cell_type": "code",
   "execution_count": 11,
   "metadata": {},
   "outputs": [],
   "source": [
    "def avg_num_comments(post_list, index=4):\n",
    "    total_comments = 0\n",
    "    for row in post_list:\n",
    "        comments = int(row[index])\n",
    "        total_comments += comments\n",
    "        \n",
    "    avg_comments = total_comments/ len(post_list)\n",
    "    return avg_comments, total_comments"
   ]
  },
  {
   "cell_type": "code",
   "execution_count": 18,
   "metadata": {},
   "outputs": [
    {
     "data": {
      "text/plain": [
       "(14.038417431192661, 24483)"
      ]
     },
     "execution_count": 18,
     "metadata": {},
     "output_type": "execute_result"
    }
   ],
   "source": [
    "# displaying the average no of comments and the total number of comments for 'Ask HN' posts\n",
    "avg_num_comments(ask_posts)"
   ]
  },
  {
   "cell_type": "code",
   "execution_count": 17,
   "metadata": {},
   "outputs": [
    {
     "data": {
      "text/plain": [
       "(10.31669535283993, 11988)"
      ]
     },
     "execution_count": 17,
     "metadata": {},
     "output_type": "execute_result"
    }
   ],
   "source": [
    "# displaying the average no of comments and the total number of comments for 'Show HN' posts\n",
    "avg_num_comments(show_posts)"
   ]
  },
  {
   "cell_type": "markdown",
   "metadata": {},
   "source": [
    "Using the function we wrote `avg_num_comments` we can see that on average, \"Ask HN\" posts receive more comments than \"Show HN\" posts do, with over double the total amount of comments."
   ]
  },
  {
   "cell_type": "markdown",
   "metadata": {},
   "source": [
    "## Ask Posts and Comments by Hour Created"
   ]
  },
  {
   "cell_type": "code",
   "execution_count": 20,
   "metadata": {},
   "outputs": [],
   "source": [
    "import datetime as dt\n",
    "\n",
    "result_list = []\n",
    "\n",
    "for post in ask_posts:\n",
    "    result_list.append([post[6], int(post[4])])\n",
    "    \n",
    "comments_by_hour = {}\n",
    "counts_by_hour = {}\n",
    "date_format = \"%m/%d/%Y %H:%M\"\n",
    "\n",
    "for each_row in result_list:\n",
    "    date = each_row[0]\n",
    "    comment = each_row[1]\n",
    "    time = dt.datetime.strptime(date, date_format).strftime(\"%H\")\n",
    "    if time in counts_by_hour:\n",
    "        comments_by_hour[time] += comment\n",
    "        counts_by_hour[time] += 1\n",
    "    else:\n",
    "        comments_by_hour[time] = comment\n",
    "        counts_by_hour[time] = 1"
   ]
  },
  {
   "cell_type": "code",
   "execution_count": 23,
   "metadata": {},
   "outputs": [
    {
     "data": {
      "text/plain": [
       "{'09': 251,\n",
       " '13': 1253,\n",
       " '10': 793,\n",
       " '14': 1416,\n",
       " '16': 1814,\n",
       " '23': 543,\n",
       " '12': 687,\n",
       " '17': 1146,\n",
       " '15': 4477,\n",
       " '21': 1745,\n",
       " '20': 1722,\n",
       " '02': 1381,\n",
       " '18': 1439,\n",
       " '03': 421,\n",
       " '05': 464,\n",
       " '19': 1188,\n",
       " '01': 683,\n",
       " '22': 479,\n",
       " '08': 492,\n",
       " '04': 337,\n",
       " '00': 447,\n",
       " '06': 397,\n",
       " '07': 267,\n",
       " '11': 641}"
      ]
     },
     "execution_count": 23,
     "metadata": {},
     "output_type": "execute_result"
    }
   ],
   "source": [
    "comments_by_hour"
   ]
  },
  {
   "cell_type": "markdown",
   "metadata": {},
   "source": [
    "The output above shows us that `Ask posts` created at the hours `15:00` showed more potential of getting feedback from users on their posts. In general posts created in between noon hours say `13:00` to late hours of the day say `21:00` had more feedbacks on a posts\n"
   ]
  },
  {
   "cell_type": "code",
   "execution_count": 24,
   "metadata": {},
   "outputs": [
    {
     "data": {
      "text/plain": [
       "[['09', 5.5777777777777775],\n",
       " ['13', 14.741176470588234],\n",
       " ['10', 13.440677966101696],\n",
       " ['14', 13.233644859813085],\n",
       " ['16', 16.796296296296298],\n",
       " ['23', 7.985294117647059],\n",
       " ['12', 9.41095890410959],\n",
       " ['17', 11.46],\n",
       " ['15', 38.5948275862069],\n",
       " ['21', 16.009174311926607],\n",
       " ['20', 21.525],\n",
       " ['02', 23.810344827586206],\n",
       " ['18', 13.20183486238532],\n",
       " ['03', 7.796296296296297],\n",
       " ['05', 10.08695652173913],\n",
       " ['19', 10.8],\n",
       " ['01', 11.383333333333333],\n",
       " ['22', 6.746478873239437],\n",
       " ['08', 10.25],\n",
       " ['04', 7.170212765957447],\n",
       " ['00', 8.127272727272727],\n",
       " ['06', 9.022727272727273],\n",
       " ['07', 7.852941176470588],\n",
       " ['11', 11.051724137931034]]"
      ]
     },
     "execution_count": 24,
     "metadata": {},
     "output_type": "execute_result"
    }
   ],
   "source": [
    "# calculating the average number of comments per post for post each hour of the day\n",
    "avg_by_hour = []\n",
    "for hour in comments_by_hour:\n",
    "    avg_by_hour.append([hour, comments_by_hour[hour]/counts_by_hour[hour]])\n",
    "\n",
    "avg_by_hour"
   ]
  },
  {
   "cell_type": "markdown",
   "metadata": {},
   "source": [
    "The result above further affirms the results gotten before. E.g There are approximately 39 Ask posts made at `15:00` every day which reflects on the feedback/comments from users which is about `4477 comments`. Also we also notice that, there are lots of posts made between noon hours to before midnight, which accounts for the large amount of comments seen during the day."
   ]
  },
  {
   "cell_type": "code",
   "execution_count": 25,
   "metadata": {},
   "outputs": [
    {
     "name": "stdout",
     "output_type": "stream",
     "text": [
      "============== Unsorted avg values ===========\n",
      "[[5.5777777777777775, '09'], [14.741176470588234, '13'], [13.440677966101696, '10'], [13.233644859813085, '14'], [16.796296296296298, '16']]\n",
      "============= Sorted avg values ==============\n",
      "Top 5 Hours for Ask Posts Comments\n",
      "15:00: 38.59 average comments per post\n",
      "02:00: 23.81 average comments per post\n",
      "20:00: 21.52 average comments per post\n",
      "16:00: 16.80 average comments per post\n",
      "21:00: 16.01 average comments per post\n"
     ]
    }
   ],
   "source": [
    "swap_avg_by_hour = []\n",
    "for row in avg_by_hour:\n",
    "    a = row[1]\n",
    "    b = row[0]\n",
    "    swap_avg_by_hour.append([a,b])\n",
    "\n",
    "print('============== Unsorted avg values ===========')    \n",
    "print(swap_avg_by_hour[:5])\n",
    "\n",
    "sorted_swap = sorted(swap_avg_by_hour, reverse=True)\n",
    "print('============= Sorted avg values ==============')\n",
    "print('Top 5 Hours for Ask Posts Comments')\n",
    "# sorted_swap[:6]\n",
    "\n",
    "for avg, hr in sorted_swap[:5]:\n",
    "    print('{}: {:.2f} average comments per post'.format(\n",
    "        dt.datetime.strptime(hr, '%H').strftime('%H:%M'), avg))"
   ]
  },
  {
   "cell_type": "markdown",
   "metadata": {},
   "source": [
    "The result of the values shown above shows to gain maximum made on a post, a post should be made most preferably at 15:00. However other suitable hours could be `2:00`, `20:00`, `16:00` and `21:00`"
   ]
  },
  {
   "cell_type": "markdown",
   "metadata": {},
   "source": [
    "## Calculate the amount of points from \"Ask\" or \"Show\" posts"
   ]
  },
  {
   "cell_type": "code",
   "execution_count": 26,
   "metadata": {},
   "outputs": [
    {
     "name": "stdout",
     "output_type": "stream",
     "text": [
      "The average number of counts for Ask Posts is 15.06\n"
     ]
    }
   ],
   "source": [
    "# Finding the average number of counts for Ask posts\n",
    "\n",
    "total_ask_count = 0\n",
    "for row in ask_posts:\n",
    "    count = row[3]\n",
    "    if count != '':\n",
    "        count = int(row[3])\n",
    "        total_ask_count += count\n",
    "    \n",
    "    \n",
    "avg_ask_counts = total_ask_count/len(ask_posts)\n",
    "print('The average number of counts for Ask Posts is {:.2f}'.format(avg_ask_counts))"
   ]
  },
  {
   "cell_type": "code",
   "execution_count": 27,
   "metadata": {},
   "outputs": [
    {
     "name": "stdout",
     "output_type": "stream",
     "text": [
      "The average number of counts for Show Posts is 27.56\n"
     ]
    }
   ],
   "source": [
    "# Finding the average number of counts for Show Posts\n",
    "\n",
    "total_show_count = 0\n",
    "for row in show_posts:\n",
    "    show_count = row[3]\n",
    "    if show_count != '':\n",
    "        show_count = int(row[3])\n",
    "        total_show_count += show_count\n",
    "    \n",
    "    \n",
    "avg_show_counts = total_show_count/len(show_posts)\n",
    "print('The average number of counts for Show Posts is {:.2f}'.format(avg_show_counts))"
   ]
  },
  {
   "cell_type": "markdown",
   "metadata": {},
   "source": [
    "This information above informs ua that there are more ratings for `Show` posts than `Ask` posts. This implies that the HN community values contributions to the community more than feedback from users"
   ]
  },
  {
   "cell_type": "markdown",
   "metadata": {},
   "source": [
    "## Post Upvotes per Time of Day"
   ]
  },
  {
   "cell_type": "markdown",
   "metadata": {},
   "source": [
    "Here we will look at whether or not time of day affects the amount of upvotes a post gets."
   ]
  },
  {
   "cell_type": "code",
   "execution_count": 28,
   "metadata": {},
   "outputs": [
    {
     "name": "stdout",
     "output_type": "stream",
     "text": [
      "the number of counts on ask posts by the hour are:\n"
     ]
    },
    {
     "data": {
      "text/plain": [
       "{'09': 45,\n",
       " '13': 85,\n",
       " '10': 59,\n",
       " '14': 107,\n",
       " '16': 108,\n",
       " '23': 68,\n",
       " '12': 73,\n",
       " '17': 100,\n",
       " '15': 116,\n",
       " '21': 109,\n",
       " '20': 80,\n",
       " '02': 58,\n",
       " '18': 109,\n",
       " '03': 54,\n",
       " '05': 46,\n",
       " '19': 110,\n",
       " '01': 60,\n",
       " '22': 71,\n",
       " '08': 48,\n",
       " '04': 47,\n",
       " '00': 55,\n",
       " '06': 44,\n",
       " '07': 34,\n",
       " '11': 58}"
      ]
     },
     "execution_count": 28,
     "metadata": {},
     "output_type": "execute_result"
    }
   ],
   "source": [
    "ask_list_counts_vs_time = []\n",
    "# total=0\n",
    "\n",
    "# Checking for upvoting vs. time for Ask Posts\n",
    "for posts in ask_posts:\n",
    "    created = posts[6]\n",
    "    counts = int(posts[3])\n",
    "    ask_list_counts_vs_time.append([created, counts])\n",
    "    \n",
    "ask_counts_by_hour = {}\n",
    "ask_comments_by_hour = {}\n",
    "date_format = '%m/%d/%Y %H:%M'\n",
    "\n",
    "for row in ask_list_counts_vs_time:\n",
    "    date = row[0]\n",
    "    count = row[1]\n",
    "    created_obj = dt.datetime.strptime(date, date_format).strftime('%H')\n",
    "    if created_obj not in ask_counts_by_hour:\n",
    "        ask_counts_by_hour[created_obj] = 1\n",
    "        ask_comments_by_hour[created_obj] = count\n",
    "    else:\n",
    "        ask_counts_by_hour[created_obj] += 1\n",
    "        ask_comments_by_hour[created_obj] += count\n",
    "        \n",
    "print('the number of counts on ask posts by the hour are:')\n",
    "ask_counts_by_hour  "
   ]
  },
  {
   "cell_type": "code",
   "execution_count": 29,
   "metadata": {},
   "outputs": [
    {
     "name": "stdout",
     "output_type": "stream",
     "text": [
      "the number of counts on show posts by the hour are:\n"
     ]
    },
    {
     "data": {
      "text/plain": [
       "{'14': 86,\n",
       " '22': 46,\n",
       " '18': 61,\n",
       " '07': 26,\n",
       " '20': 60,\n",
       " '05': 19,\n",
       " '16': 93,\n",
       " '19': 55,\n",
       " '15': 78,\n",
       " '03': 27,\n",
       " '17': 93,\n",
       " '06': 16,\n",
       " '02': 30,\n",
       " '13': 99,\n",
       " '08': 34,\n",
       " '21': 47,\n",
       " '04': 26,\n",
       " '11': 44,\n",
       " '12': 61,\n",
       " '23': 36,\n",
       " '09': 30,\n",
       " '01': 28,\n",
       " '10': 36,\n",
       " '00': 31}"
      ]
     },
     "execution_count": 29,
     "metadata": {},
     "output_type": "execute_result"
    }
   ],
   "source": [
    "show_list_counts_vs_time = []\n",
    "\n",
    "# Checking for upvoting vs. time for Show Posts\n",
    "for post in show_posts:\n",
    "    created = post[6]\n",
    "    counts = int(post[3])\n",
    "    show_list_counts_vs_time.append([created, counts])\n",
    "    \n",
    "show_counts_by_hour = {}\n",
    "show_comments_by_hour = {}\n",
    "date_format = '%m/%d/%Y %H:%M'\n",
    "\n",
    "for row in show_list_counts_vs_time:\n",
    "    date = row[0]\n",
    "    count = row[1]\n",
    "    show_created_obj = dt.datetime.strptime(date, date_format).strftime('%H')\n",
    "    if show_created_obj not in show_counts_by_hour:\n",
    "        show_counts_by_hour[show_created_obj] = 1\n",
    "        show_comments_by_hour[show_created_obj] = count\n",
    "    else:\n",
    "        show_counts_by_hour[show_created_obj] += 1\n",
    "        show_comments_by_hour[show_created_obj] += count\n",
    "        \n",
    "print('the number of counts on show posts by the hour are:')\n",
    "show_counts_by_hour"
   ]
  },
  {
   "cell_type": "markdown",
   "metadata": {},
   "source": [
    "## Conclusion\n",
    "\n",
    "From the results above we can conclude:\n",
    "\n",
    "- Show posts uploaded between the hours 13:00 and 17:00 are more likely to get higher number of upvotes\n",
    "- Ask posts will more likely be upvoted between 13:00 and 21:00"
   ]
  }
 ],
 "metadata": {
  "kernelspec": {
   "display_name": "Python 3",
   "language": "python",
   "name": "python3"
  },
  "language_info": {
   "codemirror_mode": {
    "name": "ipython",
    "version": 3
   },
   "file_extension": ".py",
   "mimetype": "text/x-python",
   "name": "python",
   "nbconvert_exporter": "python",
   "pygments_lexer": "ipython3",
   "version": "3.8.3"
  }
 },
 "nbformat": 4,
 "nbformat_minor": 2
}
